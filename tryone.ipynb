{
 "cells": [
  {
   "cell_type": "code",
   "execution_count": null,
   "id": "ccd688c5-3f98-4cff-b03d-1714174eac9a",
   "metadata": {},
   "outputs": [],
   "source": [
    "#steps to run \n",
    "#1- create astra db acoount and make one vector data base \n",
    "!pip install -q cassio datasets langchain tiktoken PyPDF2 sentence-transformers langchain-community"
   ]
  },
  {
   "cell_type": "code",
   "execution_count": 44,
   "id": "13f694f6-8066-47ee-bb14-f5fb939d602e",
   "metadata": {},
   "outputs": [],
   "source": [
    "from langchain.vectorstores.cassandra import Cassandra\n",
    "from langchain.indexes.vectorstore import VectorStoreIndexWrapper\n",
    "from langchain.text_splitter import CharacterTextSplitter\n",
    "from sentence_transformers import SentenceTransformer\n",
    "import cassio\n",
    "from PyPDF2 import PdfReader\n",
    "import re"
   ]
  },
  {
   "cell_type": "code",
   "execution_count": 45,
   "id": "e7debbc4-f3b6-4287-989d-7e0b026ed209",
   "metadata": {},
   "outputs": [],
   "source": [
    "ASTRA_DB_APPLICATION_TOKEN = \"AstraCS:XYQUCiXvsiPjptNAElONyhCX:e5f8f21a639dfb832b7bd829f771fa095818b00c389b3e82253c2d4277521078\" ##enter astra db token\n",
    "ASTRA_DB_ID = \"8cc44c17-75b1-484d-be19-e3ce261956fd\" #enter astra db id of same token \n",
    "cassio.init(token=ASTRA_DB_APPLICATION_TOKEN, database_id=ASTRA_DB_ID)"
   ]
  },
  {
   "cell_type": "code",
   "execution_count": 46,
   "id": "f5afe051-7080-4233-81d5-113855f98205",
   "metadata": {},
   "outputs": [],
   "source": [
    "class LocalEmbedding:\n",
    "    def __init__(self, model_name=\"all-MiniLM-L6-v2\"):\n",
    "        self.model = SentenceTransformer(model_name)\n",
    "\n",
    "    def embed_query(self, text):\n",
    "        return self.model.encode(text).tolist()\n",
    "\n",
    "    def embed_documents(self, texts):\n",
    "        return [self.model.encode(text).tolist() for text in texts]\n"
   ]
  },
  {
   "cell_type": "code",
   "execution_count": 47,
   "id": "ae4730db-5b92-4d75-91f2-a16263e483fd",
   "metadata": {},
   "outputs": [],
   "source": [
    "local_embedding = LocalEmbedding()"
   ]
  },
  {
   "cell_type": "code",
   "execution_count": 48,
   "id": "1dcc101a-5327-4cee-af9f-ec256ae9e84f",
   "metadata": {},
   "outputs": [],
   "source": [
    "pdfreader = PdfReader('pdfs/Amaar raja Earnings Summary.pdf')\n",
    "raw_text = ''\n",
    "for i, page in enumerate(pdfreader.pages):\n",
    "    content = page.extract_text()\n",
    "    if content:\n",
    "        raw_text += content + \"\\n\""
   ]
  },
  {
   "cell_type": "code",
   "execution_count": 49,
   "id": "5487e12c-dcf3-4f2e-a5fe-886f37a14ed5",
   "metadata": {},
   "outputs": [],
   "source": [
    "text_splitter = CharacterTextSplitter(\n",
    "    separator=\"\\n\",\n",
    "    chunk_size=1000,\n",
    "    chunk_overlap=200,\n",
    "    length_function=len,\n",
    ")\n",
    "texts = text_splitter.split_text(raw_text)"
   ]
  },
  {
   "cell_type": "code",
   "execution_count": 50,
   "id": "cf7b22bc-b8dc-4dab-ae6f-bacf5eeb23a0",
   "metadata": {},
   "outputs": [],
   "source": [
    "astra_vector_store = Cassandra(\n",
    "    embedding=local_embedding,  \n",
    "    table_name=\"qa_mini_demo\",\n",
    "    session=None,\n",
    "    keyspace=None,\n",
    ")\n"
   ]
  },
  {
   "cell_type": "code",
   "execution_count": 59,
   "id": "f991e90a-7f16-49e3-ac34-6ff945e1d957",
   "metadata": {},
   "outputs": [
    {
     "data": {
      "text/plain": [
       "['c486712f0798451f94eb7885e0187162',\n",
       " '659b389b4e8d4ae2a0b7ffe71978b788',\n",
       " 'e26043df2c124102b582c3c20dbe0846',\n",
       " '86fda7d8e6204eeebb2cc890338fea08',\n",
       " 'aa46fadba1824e8697264619810fa61e',\n",
       " 'cd140dca22fd4fa0b585734e3a3108c2',\n",
       " 'b9b8f8ca48394c418cdf972721e1c1f7',\n",
       " 'acb45c707fed493b9e75f9338ca51024',\n",
       " '209c1e89133b40068825571f9cda5060',\n",
       " 'ab14b74150984034a95ea67c39f95b2c',\n",
       " 'f091224a216847eeab1d1031064a60b3',\n",
       " '6bba13e84e84418080151d85df36defa',\n",
       " 'a554dc178f224b70bfdab35b2461aa25',\n",
       " 'c2c57c0887644e5e8b2ee0b5952665f4',\n",
       " '48fe1e4075f3434d8498e50684e7e549',\n",
       " '1ab8e2fba64a471db96fdd61fcc55288',\n",
       " '7a69eb11608b423f95c2758ea30f6ed7',\n",
       " '358f657b2b3b4178b827b642aeb9a6a9',\n",
       " 'f46423d1a1bb4681badae336e80fa12c',\n",
       " '870a21a74ecc4bafadf14eada2d16e23',\n",
       " '9c116aa871524f2d9d5b1f3c7cbbee6d',\n",
       " 'acbb714eb7344b66b62177a5321fd854',\n",
       " 'de56a3c094d64af79bed4e185dedc35d',\n",
       " '736a92bf32f14f25855ab5490ccbf9b8',\n",
       " '930c169282064ffa9bbd25ae5694fcbb',\n",
       " 'd29c9d0abffd402a9837fa4bfbe20ca4',\n",
       " 'dd0c1fca092a4caeb2fb396ac41ca6cf',\n",
       " '733a221dc3c64bd982d53983e21add76',\n",
       " '333d346216884267b064f41676d1dda3',\n",
       " '865c1885b9744b85a9b16760cba413e0',\n",
       " '749f9df49212495bb2f86f6eff44afa0',\n",
       " '1c63b472471f46c28372527077ccc0d6',\n",
       " '8a470449bf3f42a8939e158be70251cc',\n",
       " '4a758357c1414caf9ac6258bf57cc1cf',\n",
       " '0e86399391434e398a70e64c21006084',\n",
       " '17048294532b4d739a999d112aea50d6',\n",
       " 'f5f80775ae894534a2ab2ab77c0973ad',\n",
       " '7147954913bb4c3e85ba5d9c31795c86',\n",
       " '7e33c61a148444bc92341b64f52b5223',\n",
       " '73ec522f9db24198803f4e766140ea9e',\n",
       " 'ba41dd1e12ab402cb5613de48d9433d9',\n",
       " '153ecb3f9eef4cd0823b69fd75f3a4f0',\n",
       " '2e8bc3bd975a47e9b48c8c91044f7a9d',\n",
       " '469a525a3236458285b36dd83326b864',\n",
       " '1114ccc6c1014f379de9baa2182ae19f',\n",
       " 'c2b7812fa455483cbcf0548ac8e5fa88',\n",
       " '91db3097f55f4691880fb584c643dc8a',\n",
       " '717e129f86d54f77ab6d398c56cd2c8f',\n",
       " '662c0985404b4f1cb7871e1a29c16568',\n",
       " '86bde8244d9642818f9f57a674f56ba1',\n",
       " '1a7e57f45f6041aa9f618d0b048dbf1b',\n",
       " '18ee846945284e8ea9ef91f59b1486d0',\n",
       " '35cc8f0be1dc42449cc65991de5a491e']"
      ]
     },
     "execution_count": 59,
     "metadata": {},
     "output_type": "execute_result"
    }
   ],
   "source": [
    "astra_vector_store.add_texts(texts)"
   ]
  },
  {
   "cell_type": "code",
   "execution_count": 52,
   "id": "e82a643c-8889-4b59-b436-169a294dc8a7",
   "metadata": {},
   "outputs": [],
   "source": [
    "patterns = {\n",
    "    \"Company Name\": r\"(?i)(?:Company Name|Name of the Company|Corporate Name|Yours faithfully)[:\\s]+([A-Za-z&.,\\s-]+)\",\n",
    "    \"Report Date\": r\"(?i)(?:Report Date|Dated|As on)[:\\s]+([\\dA-Za-z,\\s]+)\",\n",
    "    \"Profit Before Tax\": r\"(?i)Profit\\s*Before\\s*Tax\\s*[\\(]?.*?[\\)]?[:\\s]+([\\d,.]+)\",\n",
    "    \"Revenue from Operations\": r\"(?i)Revenue\\s*from\\s*Operations[:\\s]+([\\d,.]+)\",\n",
    "    \"Total Income\": r\"(?i)Total\\s*Income[:\\s]+([\\d,.]+)\",\n",
    "    \"Total Expenses\": r\"(?i)Total\\s*Expenses[:\\s]+([\\d,.]+)\",\n",
    "    \"Net Profit After Tax\": r\"(?i)Net\\s*Profit\\s*After\\s*Tax[:\\s]+([\\d,.]+)\"\n",
    "}"
   ]
  },
  {
   "cell_type": "code",
   "execution_count": 53,
   "id": "76ed990c-759b-4f63-89e8-dc8ab9675bd3",
   "metadata": {},
   "outputs": [],
   "source": [
    "extracted_data = {key: \"Not Found\" for key in patterns.keys()}"
   ]
  },
  {
   "cell_type": "code",
   "execution_count": 54,
   "id": "04ea22a8-d608-4a68-b63c-92f33b3b7409",
   "metadata": {},
   "outputs": [],
   "source": [
    "for key, pattern in patterns.items():\n",
    "    match = re.search(pattern, raw_text, re.MULTILINE)\n",
    "    if match:\n",
    "        extracted_data[key] = match.group(1).strip()"
   ]
  },
  {
   "cell_type": "code",
   "execution_count": 55,
   "id": "e28980b2-0d31-4cac-b785-1c1745ce302f",
   "metadata": {},
   "outputs": [],
   "source": [
    "lines = raw_text.split(\"\\n\")\n",
    "for line in lines:\n",
    "    if extracted_data[\"Company Name\"] == \"Not Found\" and re.search(r\"(?i)(Company Name|Corporate Name)\", line):\n",
    "        extracted_data[\"Company Name\"] = line.split(\":\")[-1].strip()\n",
    "    if extracted_data[\"Report Date\"] == \"Not Found\" and re.search(r\"(?i)(Report Date|Dated|As on)\", line):\n",
    "        extracted_data[\"Report Date\"] = line.split(\":\")[-1].strip()"
   ]
  },
  {
   "cell_type": "code",
   "execution_count": 56,
   "id": "a187fc44-aebb-4851-be71-824617ba354c",
   "metadata": {},
   "outputs": [],
   "source": [
    "if \"meeting\" in extracted_data[\"Company Name\"].lower():\n",
    "    extracted_data[\"Company Name\"] = \"Not Found\""
   ]
  },
  {
   "cell_type": "code",
   "execution_count": 57,
   "id": "a167f2b7-195c-4626-abe9-7b78bf3032e0",
   "metadata": {},
   "outputs": [
    {
     "name": "stdout",
     "output_type": "stream",
     "text": [
      "\n",
      "===== Extracted Financial Report =====\n",
      "\n",
      "Company Name: For Amara Raja Energy & Mobility Limited\n",
      "Report Date: September 26, 2024, we wish to inform you that the Board of \n",
      "Directors at their meeting held today i\n",
      " Profit Before Tax: ₹323.97 crores\n",
      " Revenue from Operations: ₹3,250.73 crores\n",
      " Total Income: ₹3,154.30 crores\n",
      " Total Expenses: ₹2,830.33 crores\n",
      " Net Profit After Tax: ₹226.32 crores\n",
      "\n",
      "=======================================\n",
      "\n"
     ]
    }
   ],
   "source": [
    "print(\"\\n===== Extracted Financial Report =====\\n\")\n",
    "print(f\"Company Name: {extracted_data['Company Name']}\")\n",
    "print(f\"Report Date: {extracted_data['Report Date']}\")\n",
    "print(f\" Profit Before Tax: ₹{extracted_data['Profit Before Tax']} crores\")\n",
    "print(f\" Revenue from Operations: ₹{extracted_data['Revenue from Operations']} crores\")\n",
    "print(f\" Total Income: ₹{extracted_data['Total Income']} crores\")\n",
    "print(f\" Total Expenses: ₹{extracted_data['Total Expenses']} crores\")\n",
    "print(f\" Net Profit After Tax: ₹{extracted_data['Net Profit After Tax']} crores\")\n",
    "print(\"\\n=======================================\\n\")\n"
   ]
  },
  {
   "cell_type": "code",
   "execution_count": 58,
   "id": "8a60c8e8-48ac-4393-816f-0465f9aeb492",
   "metadata": {},
   "outputs": [
    {
     "name": "stdout",
     "output_type": "stream",
     "text": [
      "Saved\n"
     ]
    }
   ],
   "source": [
    "import json\n",
    "\n",
    "financial_report = {\n",
    "    \"Company Name\": extracted_data['Company Name'],\n",
    "    \"Report Date\": extracted_data['Report Date'],\n",
    "    \"Profit Before Tax\": f\"₹{extracted_data['Profit Before Tax']} crores\",\n",
    "    \"Revenue from Operations\": f\"₹{extracted_data['Revenue from Operations']} crores\",\n",
    "    \"Total Income\": f\"₹{extracted_data['Total Income']} crores\",\n",
    "    \"Total Expenses\": f\"₹{extracted_data['Total Expenses']} crores\",\n",
    "    \"Net Profit After Tax\": f\"₹{extracted_data['Net Profit After Tax']} crores\"\n",
    "}\n",
    "\n",
    "with open(\"Details.json\", \"w\", encoding=\"utf-8\") as json_file:\n",
    "    json.dump(financial_report, json_file, indent=4)\n",
    "print(\"Saved\")"
   ]
  },
  {
   "cell_type": "code",
   "execution_count": null,
   "id": "47db6aa6-8ca4-4bed-8c64-7b84099db785",
   "metadata": {},
   "outputs": [],
   "source": []
  }
 ],
 "metadata": {
  "kernelspec": {
   "display_name": "Python 3 (ipykernel)",
   "language": "python",
   "name": "python3"
  },
  "language_info": {
   "codemirror_mode": {
    "name": "ipython",
    "version": 3
   },
   "file_extension": ".py",
   "mimetype": "text/x-python",
   "name": "python",
   "nbconvert_exporter": "python",
   "pygments_lexer": "ipython3",
   "version": "3.12.3"
  }
 },
 "nbformat": 4,
 "nbformat_minor": 5
}
